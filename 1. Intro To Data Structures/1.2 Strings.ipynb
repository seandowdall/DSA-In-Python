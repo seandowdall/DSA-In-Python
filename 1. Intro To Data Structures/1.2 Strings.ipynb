{
 "cells": [
  {
   "cell_type": "markdown",
   "id": "6b1d158e",
   "metadata": {},
   "source": [
    "# 1.2 Strings\n",
    "\n",
    "Strings are a fundamental feature of every programming language, today we will be looking at strings as they refer to python.\n",
    "\n",
    "## What is a string?\n",
    "\n",
    "A string is an ordered sequence of characters or symbols encased in single or double quotation marks.\n"
   ]
  },
  {
   "cell_type": "markdown",
   "id": "2b61c8e7",
   "metadata": {},
   "source": [
    "### Creating Strings\n",
    "\n",
    "You can create strings using single quotes (') or double quotes (\")."
   ]
  },
  {
   "cell_type": "code",
   "execution_count": 4,
   "id": "08c30300",
   "metadata": {},
   "outputs": [
    {
     "name": "stdout",
     "output_type": "stream",
     "text": [
      "Hello World I love DSA!!!\n"
     ]
    }
   ],
   "source": [
    "string1 = \"Hello World\"\n",
    "\n",
    "string2 = 'I love DSA!!!'\n",
    "\n",
    "print(string1, string2)"
   ]
  },
  {
   "cell_type": "markdown",
   "id": "8ff3b04b",
   "metadata": {},
   "source": [
    "### Accessing Characters\n",
    "Similar to arrays and lists, you can access specific characters in a string by using indexing.|"
   ]
  },
  {
   "cell_type": "code",
   "execution_count": 5,
   "id": "59f3df34",
   "metadata": {},
   "outputs": [
    {
     "data": {
      "text/plain": [
       "'e'"
      ]
     },
     "execution_count": 5,
     "metadata": {},
     "output_type": "execute_result"
    }
   ],
   "source": [
    "string1[1]"
   ]
  },
  {
   "cell_type": "code",
   "execution_count": 7,
   "id": "f5806d80",
   "metadata": {},
   "outputs": [
    {
     "data": {
      "text/plain": [
       "'!'"
      ]
     },
     "execution_count": 7,
     "metadata": {},
     "output_type": "execute_result"
    }
   ],
   "source": [
    "string2[10]"
   ]
  },
  {
   "cell_type": "markdown",
   "id": "2be81485",
   "metadata": {},
   "source": [
    "### String Length\n",
    "you can access the length of the string as a value"
   ]
  },
  {
   "cell_type": "code",
   "execution_count": 9,
   "id": "e08bc477",
   "metadata": {},
   "outputs": [
    {
     "data": {
      "text/plain": [
       "11"
      ]
     },
     "execution_count": 9,
     "metadata": {},
     "output_type": "execute_result"
    }
   ],
   "source": [
    "len(string1)"
   ]
  },
  {
   "cell_type": "code",
   "execution_count": 10,
   "id": "f6d7eba2",
   "metadata": {},
   "outputs": [
    {
     "data": {
      "text/plain": [
       "13"
      ]
     },
     "execution_count": 10,
     "metadata": {},
     "output_type": "execute_result"
    }
   ],
   "source": [
    "len(string2)"
   ]
  },
  {
   "cell_type": "markdown",
   "id": "ca99742c",
   "metadata": {},
   "source": [
    "### String Slicing\n",
    "You can slice strings to get substrings:"
   ]
  },
  {
   "cell_type": "code",
   "execution_count": 11,
   "id": "bd6aaf48",
   "metadata": {},
   "outputs": [
    {
     "name": "stdout",
     "output_type": "stream",
     "text": [
      "Hello\n",
      "World!\n"
     ]
    }
   ],
   "source": [
    "s = \"Hello, World!\"\n",
    "print(s[0:5])  # Output: 'Hello'\n",
    "print(s[7:])   # Output: 'World!'"
   ]
  },
  {
   "cell_type": "markdown",
   "id": "cb5408ed",
   "metadata": {},
   "source": [
    "### String Methods\n",
    "Python provides many out of the box methods for formatting strings"
   ]
  },
  {
   "cell_type": "code",
   "execution_count": 12,
   "id": "eae50581",
   "metadata": {},
   "outputs": [
    {
     "name": "stdout",
     "output_type": "stream",
     "text": [
      "HELLO, WORLD!\n",
      "hello, world!\n",
      "True\n",
      "True\n",
      "['Hello', ' World!']\n"
     ]
    }
   ],
   "source": [
    "s = \"Hello, World!\"\n",
    "print(s.upper())      # Output: 'HELLO, WORLD!'\n",
    "print(s.lower())      # Output: 'hello, world!'\n",
    "print(s.startswith('H'))  # Output: True\n",
    "print(s.endswith('!'))    # Output: True\n",
    "print(s.split(','))   # Output: ['Hello', ' World!']\n"
   ]
  },
  {
   "cell_type": "markdown",
   "id": "b3ffed59",
   "metadata": {},
   "source": [
    "### String Formatting\n",
    "Python supports various methods for formatting strings."
   ]
  },
  {
   "cell_type": "code",
   "execution_count": 13,
   "id": "04485387",
   "metadata": {},
   "outputs": [
    {
     "name": "stdout",
     "output_type": "stream",
     "text": [
      "My name is Alice and I am 30 years old.\n"
     ]
    }
   ],
   "source": [
    "name = \"Alice\"\n",
    "age = 30\n",
    "print(\"My name is {} and I am {} years old.\".format(name, age))\n",
    "# Output: My name is Alice and I am 30 years old.\n"
   ]
  },
  {
   "cell_type": "markdown",
   "id": "0fb8160c",
   "metadata": {},
   "source": [
    "### String Iteration\n",
    "Python provides methods for iterating through strings:"
   ]
  },
  {
   "cell_type": "code",
   "execution_count": 14,
   "id": "e4e366e1",
   "metadata": {},
   "outputs": [
    {
     "name": "stdout",
     "output_type": "stream",
     "text": [
      "H\n",
      "e\n",
      "l\n",
      "l\n",
      "o\n"
     ]
    }
   ],
   "source": [
    "s = \"Hello\"\n",
    "for char in s:\n",
    "    print(char)\n",
    "# Output:\n",
    "# H\n",
    "# e\n",
    "# l\n",
    "# l\n",
    "# o\n"
   ]
  },
  {
   "cell_type": "markdown",
   "id": "18beb368",
   "metadata": {},
   "source": [
    "### String Membership Test\n",
    "You can check if a substring exists in a string using the 'in' operator."
   ]
  },
  {
   "cell_type": "code",
   "execution_count": 15,
   "id": "fefe2f6d",
   "metadata": {},
   "outputs": [
    {
     "name": "stdout",
     "output_type": "stream",
     "text": [
      "True\n",
      "False\n"
     ]
    }
   ],
   "source": [
    "s = \"Hello, World!\"\n",
    "print('Hello' in s)  # Output: True\n",
    "print('Python' in s)  # Output: False\n"
   ]
  },
  {
   "cell_type": "markdown",
   "id": "85cedf01",
   "metadata": {},
   "source": [
    "# String Worksheet Questions\n",
    "Practice the fundamentals of working with strings in Python, when you get stuck, learn from the answer sheet provided, or from the notes provided above."
   ]
  },
  {
   "cell_type": "markdown",
   "id": "77c6857e",
   "metadata": {},
   "source": [
    "## Exercise 1: Create a string variable containing your name and print it."
   ]
  },
  {
   "cell_type": "code",
   "execution_count": null,
   "id": "ca05e4d9",
   "metadata": {},
   "outputs": [],
   "source": []
  },
  {
   "cell_type": "markdown",
   "id": "10e65ca7",
   "metadata": {},
   "source": [
    "\n",
    "## Exercise 2: Access and print the first character of the string."
   ]
  },
  {
   "cell_type": "code",
   "execution_count": null,
   "id": "e95c1c17",
   "metadata": {},
   "outputs": [],
   "source": []
  },
  {
   "cell_type": "markdown",
   "id": "281b019b",
   "metadata": {},
   "source": [
    "## Exercise 3: Print the length of the string."
   ]
  },
  {
   "cell_type": "code",
   "execution_count": null,
   "id": "138b44b1",
   "metadata": {},
   "outputs": [],
   "source": []
  },
  {
   "cell_type": "markdown",
   "id": "f574a30e",
   "metadata": {},
   "source": [
    "## Exercise 4: Concatenate the string variable with another string and print the result."
   ]
  },
  {
   "cell_type": "code",
   "execution_count": null,
   "id": "573b5cdf",
   "metadata": {},
   "outputs": [],
   "source": []
  },
  {
   "cell_type": "markdown",
   "id": "dd96c1c1",
   "metadata": {},
   "source": [
    "## Exercise 5: Slice the string to print only the first name."
   ]
  },
  {
   "cell_type": "code",
   "execution_count": null,
   "id": "dcca5053",
   "metadata": {},
   "outputs": [],
   "source": []
  },
  {
   "cell_type": "markdown",
   "id": "cf1cc1f4",
   "metadata": {},
   "source": [
    "## Exercise 6: Convert the string to uppercase and print it."
   ]
  },
  {
   "cell_type": "code",
   "execution_count": null,
   "id": "da6ff013",
   "metadata": {},
   "outputs": [],
   "source": []
  },
  {
   "cell_type": "markdown",
   "id": "587747cb",
   "metadata": {},
   "source": [
    "## Exercise 7: Check if the string contains the substring \"Doe\" and print the result."
   ]
  },
  {
   "cell_type": "code",
   "execution_count": null,
   "id": "41e6bb23",
   "metadata": {},
   "outputs": [],
   "source": []
  },
  {
   "cell_type": "markdown",
   "id": "8bfcbb27",
   "metadata": {},
   "source": [
    "## Exercise 8: Split the string into a list of words and print it."
   ]
  },
  {
   "cell_type": "code",
   "execution_count": null,
   "id": "d43f6fdf",
   "metadata": {},
   "outputs": [],
   "source": []
  },
  {
   "cell_type": "markdown",
   "id": "b29fc5f1",
   "metadata": {},
   "source": [
    "## Exercise 9: Iterate over each character in the string and print them."
   ]
  },
  {
   "cell_type": "code",
   "execution_count": null,
   "id": "deae8fe8",
   "metadata": {},
   "outputs": [],
   "source": []
  },
  {
   "cell_type": "markdown",
   "id": "79f7e710",
   "metadata": {},
   "source": [
    "# Exercise 10: Create a formatted string to print \"My name is <name> and I am <age> years old.\""
   ]
  },
  {
   "cell_type": "code",
   "execution_count": null,
   "id": "2265381a",
   "metadata": {},
   "outputs": [],
   "source": []
  },
  {
   "cell_type": "markdown",
   "id": "3215cb3c",
   "metadata": {},
   "source": [
    "# String Worksheet Answers"
   ]
  },
  {
   "cell_type": "code",
   "execution_count": null,
   "id": "9007af2f",
   "metadata": {},
   "outputs": [],
   "source": [
    "# Exercise 1: Create a string variable containing your name and print it.\n",
    "name = \"John Doe\"\n",
    "print(name)\n",
    "\n",
    "# Exercise 2: Access and print the first character of the string.\n",
    "print(name[0])\n",
    "\n",
    "# Exercise 3: Print the length of the string.\n",
    "print(len(name))\n",
    "\n",
    "# Exercise 4: Concatenate the string variable with another string and print the result.\n",
    "greeting = \"Hello, \"\n",
    "full_greeting = greeting + name\n",
    "print(full_greeting)\n",
    "\n",
    "# Exercise 5: Slice the string to print only the first name.\n",
    "first_name = name[:4]\n",
    "print(first_name)\n",
    "\n",
    "# Exercise 6: Convert the string to uppercase and print it.\n",
    "print(name.upper())\n",
    "\n",
    "# Exercise 7: Check if the string contains the substring \"Doe\" and print the result.\n",
    "print(\"Doe\" in name)\n",
    "\n",
    "# Exercise 8: Split the string into a list of words and print it.\n",
    "words = name.split()\n",
    "print(words)\n",
    "\n",
    "# Exercise 9: Iterate over each character in the string and print them.\n",
    "for char in name:\n",
    "    print(char)\n",
    "\n",
    "# Exercise 10: Create a formatted string to print \"My name is <name> and I am <age> years old.\"\n",
    "age = 25\n",
    "formatted_string = \"My name is {} and I am {} years old.\".format(name, age)\n",
    "print(formatted_string)\n"
   ]
  }
 ],
 "metadata": {
  "kernelspec": {
   "display_name": "Python 3 (ipykernel)",
   "language": "python",
   "name": "python3"
  },
  "language_info": {
   "codemirror_mode": {
    "name": "ipython",
    "version": 3
   },
   "file_extension": ".py",
   "mimetype": "text/x-python",
   "name": "python",
   "nbconvert_exporter": "python",
   "pygments_lexer": "ipython3",
   "version": "3.10.9"
  }
 },
 "nbformat": 4,
 "nbformat_minor": 5
}
